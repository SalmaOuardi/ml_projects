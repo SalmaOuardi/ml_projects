{
 "cells": [
  {
   "cell_type": "code",
   "execution_count": 2,
   "metadata": {},
   "outputs": [
    {
     "name": "stdout",
     "output_type": "stream",
     "text": [
      "🛑 Missing in test set: set()\n",
      "🛑 Extra in test set: {'GarageQual_Po', 'Condition1_PosN', 'RoofMatl_ClyTile', 'Street_Grvl', 'Exterior2nd_Brk Cmn', 'GarageType_2Types', 'PavedDrive_P', 'SaleType_CWD', 'BsmtFinType2_GLQ', 'LotShape_IR2', '3SsnPorch', 'Condition2_PosN', 'MSSubClass', 'Exterior1st_CBlock', 'Condition2_RRAn', 'BsmtFinType1_ALQ', 'RoofStyle_Shed', 'Heating_Floor', 'HouseStyle_1Story', 'GarageCond_Ex', 'BsmtCond_Po', 'SaleCondition_Family', 'Condition2_Artery', 'Functional_Sev', 'Exterior2nd_Other', 'Condition1_RRAn', 'HouseStyle_2.5Fin', 'Exterior1st_Plywood', 'Functional_Min2', 'RoofMatl_Membran', 'LandSlope_Sev', 'Exterior2nd_BrkFace', 'Condition2_RRNn', 'BsmtFinType2_ALQ', 'SaleType_ConLD', 'SaleCondition_AdjLand', 'Functional_Mod', 'Functional_Maj1', 'Condition1_RRNe', 'GarageCond_Gd', 'Condition2_Norm', 'Exterior2nd_Plywood', 'Neighborhood_Crawfor', 'Exterior1st_AsphShn', 'LandSlope_Mod', 'Exterior1st_BrkFace', 'LandSlope_Gtl', 'HouseStyle_SFoyer', 'RoofStyle_Gambrel', 'Neighborhood_Blmngtn', 'BsmtExposure_Mn', 'SaleType_Oth', 'Foundation_Stone', 'Condition1_RRAe', 'MiscVal', 'GarageQual_Gd', 'Neighborhood_Mitchel', 'BsmtFinType2_BLQ', 'Heating_OthW', 'GarageQual_Ex', 'BsmtFinType2_Rec', 'BsmtFinType1_LwQ', 'RoofMatl_Metal', 'Exterior1st_WdShing', 'LotConfig_FR3', 'Exterior2nd_ImStucc', 'RoofMatl_Tar&Grv', 'Neighborhood_SawyerW', 'Heating_GasW', 'SaleCondition_Alloca', 'MSZoning_RH', 'LowQualFinSF', 'Id', 'HouseStyle_SLvl', 'Neighborhood_Blueste', 'LotConfig_Corner', 'Condition2_RRAe', 'RoofMatl_CompShg', 'Neighborhood_Veenker', 'SaleType_ConLI', 'ExterCond_Gd', 'BsmtFinType2_LwQ', 'OverallCond', 'BldgType_TwnhsE', 'Condition2_Feedr', 'RoofMatl_WdShngl', 'Exterior1st_ImStucc', 'Utilities_AllPub', 'MoSold', 'Neighborhood_NWAmes', 'Exterior2nd_HdBoard', 'Utilities_NoSeWa', 'RoofMatl_WdShake', 'LotConfig_Inside', 'LotConfig_FR2', 'Exterior2nd_Stucco', 'Neighborhood_SWISU', 'Exterior1st_Stucco', 'Condition2_PosA', 'HeatingQC_Po', 'BsmtFinSF2', 'Exterior1st_Stone', 'ExterCond_Ex', 'Exterior1st_CemntBd', 'Street_Pave', 'BsmtCond_TA', 'BsmtHalfBath', 'SaleType_ConLw', 'Condition1_PosA', 'LandContour_Low', 'RoofStyle_Flat', 'Exterior2nd_AsphShn', 'Exterior1st_BrkComm', 'HouseStyle_2.5Unf', 'Exterior2nd_Wd Shng', 'Exterior1st_HdBoard', 'Foundation_Wood', 'LotShape_IR3', 'Functional_Min1', 'LandContour_Lvl', 'Heating_Wall', 'RoofMatl_Roll', 'Neighborhood_NPkVill', 'RoofStyle_Mansard', 'BsmtFinType2_Unf', 'Exterior2nd_Stone', 'GarageType_Basment', 'Exterior2nd_CmentBd', 'Condition1_RRNn', 'SaleType_Con', 'SaleType_COD', 'Electrical_FuseP', 'PoolArea', 'GarageCond_Po', 'GarageType_CarPort', 'YrSold', 'SaleCondition_Normal', 'Electrical_Mix', 'ExterCond_Po', 'LandContour_HLS', 'Exterior2nd_CBlock'}\n"
     ]
    }
   ],
   "source": [
    "import pandas as pd\n",
    "\n",
    "# Load processed train and test data\n",
    "train_df = pd.read_csv(\"../data/processed/clean_train.csv\")\n",
    "test_df = pd.read_csv(\"../data/processed/clean_test.csv\")\n",
    "\n",
    "# Extract feature names (excluding target variable)\n",
    "train_features = set(train_df.drop(columns=[\"SalePrice\"], errors=\"ignore\").columns)\n",
    "test_features = set(test_df.columns)\n",
    "\n",
    "# Identify mismatched features\n",
    "missing_in_test = train_features - test_features\n",
    "extra_in_test = test_features - train_features\n",
    "\n",
    "print(f\"🛑 Missing in test set: {missing_in_test}\")\n",
    "print(f\"🛑 Extra in test set: {extra_in_test}\")\n"
   ]
  },
  {
   "cell_type": "code",
   "execution_count": 3,
   "metadata": {},
   "outputs": [
    {
     "name": "stdout",
     "output_type": "stream",
     "text": [
      "   Id      SalePrice\n",
      "0   0  121376.471475\n",
      "1   1  156279.820821\n",
      "2   2  185111.837866\n",
      "3   3  188511.870426\n",
      "4   4  200711.226938\n",
      "(1459, 2)\n"
     ]
    }
   ],
   "source": [
    "import pandas as pd\n",
    "\n",
    "submission = pd.read_csv(\"../results/submission.csv\")\n",
    "print(submission.head())  # Check first rows\n",
    "print(submission.shape)   # Check dimensions\n"
   ]
  },
  {
   "cell_type": "code",
   "execution_count": 4,
   "metadata": {},
   "outputs": [
    {
     "name": "stdout",
     "output_type": "stream",
     "text": [
      "0    1461\n",
      "1    1462\n",
      "2    1463\n",
      "3    1464\n",
      "4    1465\n",
      "Name: Id, dtype: int64\n",
      "(1459, 267)\n"
     ]
    }
   ],
   "source": [
    "print(test_df['Id'].head())  # Check the first few IDs\n",
    "print(test_df.shape)  # Compare with submission file shape"
   ]
  },
  {
   "cell_type": "code",
   "execution_count": 13,
   "metadata": {},
   "outputs": [],
   "source": [
    "# Load processed train and test data\n",
    "train_df = pd.read_csv(\"../data/processed/clean_train.csv\")\n",
    "test_df = pd.read_csv(\"../data/processed/clean_test.csv\")\n",
    "not_cleaned = pd.read_csv(\"../data/raw/test.csv\")"
   ]
  },
  {
   "cell_type": "code",
   "execution_count": 14,
   "metadata": {},
   "outputs": [
    {
     "name": "stdout",
     "output_type": "stream",
     "text": [
      "✅ 'Id' column found in test_df\n"
     ]
    }
   ],
   "source": [
    "# check if we have a column named 'Id' in test_df     \n",
    "if 'Id' in test_df.columns:\n",
    "    print(\"✅ 'Id' column found in test_df\")\n",
    "else: \n",
    "    print(\"🛑 'Id' column not found in test_df\")"
   ]
  },
  {
   "cell_type": "code",
   "execution_count": 10,
   "metadata": {},
   "outputs": [
    {
     "data": {
      "text/plain": [
       "Index(['LotFrontage', 'LotArea', 'OverallQual', 'YearBuilt', 'YearRemodAdd',\n",
       "       'MasVnrArea', 'BsmtFinSF1', 'BsmtUnfSF', 'TotalBsmtSF', '1stFlrSF',\n",
       "       ...\n",
       "       'GarageQual_Fa', 'GarageQual_TA', 'GarageCond_Fa', 'GarageCond_TA',\n",
       "       'PavedDrive_N', 'PavedDrive_Y', 'SaleType_New', 'SaleType_WD',\n",
       "       'SaleCondition_Abnorml', 'SaleCondition_Partial'],\n",
       "      dtype='object', length=126)"
      ]
     },
     "execution_count": 10,
     "metadata": {},
     "output_type": "execute_result"
    }
   ],
   "source": [
    "test_df.columns"
   ]
  },
  {
   "cell_type": "code",
   "execution_count": 15,
   "metadata": {},
   "outputs": [
    {
     "name": "stdout",
     "output_type": "stream",
     "text": [
      "✅ 'Id' column found in not_cleaned\n"
     ]
    }
   ],
   "source": [
    "# check if we have a column named 'Id' in not_cleaned\n",
    "if 'Id' in not_cleaned.columns:\n",
    "    print(\"✅ 'Id' column found in not_cleaned\")\n",
    "else: \n",
    "    print(\"🛑 'Id' column not found in not_cleaned\")"
   ]
  },
  {
   "cell_type": "code",
   "execution_count": null,
   "metadata": {},
   "outputs": [],
   "source": []
  }
 ],
 "metadata": {
  "kernelspec": {
   "display_name": "ml_projects",
   "language": "python",
   "name": "python3"
  },
  "language_info": {
   "codemirror_mode": {
    "name": "ipython",
    "version": 3
   },
   "file_extension": ".py",
   "mimetype": "text/x-python",
   "name": "python",
   "nbconvert_exporter": "python",
   "pygments_lexer": "ipython3",
   "version": "3.9.6"
  }
 },
 "nbformat": 4,
 "nbformat_minor": 2
}
